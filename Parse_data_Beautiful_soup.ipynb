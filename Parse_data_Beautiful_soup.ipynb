{
 "cells": [
  {
   "cell_type": "code",
   "execution_count": 1,
   "metadata": {
    "collapsed": true
   },
   "outputs": [],
   "source": [
    "import pandas as pd\n",
    "from bs4 import BeautifulSoup\n",
    "\n",
    "import re"
   ]
  },
  {
   "cell_type": "code",
   "execution_count": 4,
   "metadata": {},
   "outputs": [],
   "source": [
    "r = '''\n",
    "<html><head><title>Best Books</title></head>\n",
    "<body>\n",
    "<p class='title'><b>DATA SCIENCE FOR DUMMIES</b></p>\n",
    "\n",
    "<p class='description'>Jobs in data science abound, but few people have the data science skills needed to fill these increasingly important roles in organizations. Data Science For Dummies is the pe\n",
    "<br><br>\n",
    "Edition 1 of this book:\n",
    "        <br>\n",
    " <ul>\n",
    "  <li>Provides a background in data science fundamentals before moving on to working with relational databases and unstructured data and preparing your data for analysis</li>\n",
    "  <li>Details different data visualization techniques that can be used to showcase and summarize your data</li>\n",
    "  <li>Explains both supervised and unsupervised machine learning, including regression, model validation, and clustering techniques</li>\n",
    "  <li>Includes coverage of big data processing tools like MapReduce, Hadoop, Storm, and Spark</li>   \n",
    "  </ul>\n",
    "<br><br>\n",
    "What to do next:\n",
    "<br>\n",
    "<a href='http://www.data-mania.com/blog/books-by-lillian-pierson/' class = 'preview' id='link 1'>See a preview of the book</a>,\n",
    "<a href='http://www.data-mania.com/blog/data-science-for-dummies-answers-what-is-data-science/' class = 'preview' id='link 2'>get the free pdf download,</a> and then\n",
    "<a href='http://bit.ly/Data-Science-For-Dummies' class = 'preview' id='link 3'>buy the book!</a> \n",
    "</p>\n",
    "\n",
    "<p class='description'>...</p>\n",
    "'''\n",
    "\n",
    "soup = BeautifulSoup(r,'lxml')"
   ]
  },
  {
   "cell_type": "code",
   "execution_count": 5,
   "metadata": {},
   "outputs": [
    {
     "data": {
      "text/plain": [
       "bs4.BeautifulSoup"
      ]
     },
     "execution_count": 5,
     "metadata": {},
     "output_type": "execute_result"
    }
   ],
   "source": [
    "type(soup)"
   ]
  },
  {
   "cell_type": "code",
   "execution_count": 6,
   "metadata": {},
   "outputs": [
    {
     "name": "stdout",
     "output_type": "stream",
     "text": [
      "<html>\n",
      " <head>\n",
      "  <title>\n",
      "   Best Books\n",
      "  </title>\n",
      " </head>\n",
      " <body>\n",
      "  <p class=\"title\">\n",
      "   <b>\n",
      "    DA\n"
     ]
    }
   ],
   "source": [
    "print(soup.prettify()[0:100])"
   ]
  },
  {
   "cell_type": "code",
   "execution_count": 8,
   "metadata": {},
   "outputs": [
    {
     "data": {
      "text/plain": [
       "u'Best Books\\n\\nDATA SCIENCE FOR DUMMIES\\nJobs in data science abound, but few people have the data science skills needed to fill these increasingly important roles in organizations. Data Science For Dummies is the pe\\n\\nEdition 1 of this book:\\n        \\n\\nProvides a background in data science fundamentals before moving on to working with relational databases and unstructured data and preparing your data for analysis\\nDetails different data visualization techniques that can be used to showcase and summarize your data\\nExplains both supervised and unsupervised machine learning, including regression, model validation, and clustering techniques\\nIncludes coverage of big data processing tools like MapReduce, Hadoop, Storm, and Spark\\n\\n\\nWhat to do next:\\n\\nSee a preview of the book,\\nget the free pdf download, and then\\nbuy the book!\\n...\\n'"
      ]
     },
     "execution_count": 8,
     "metadata": {},
     "output_type": "execute_result"
    }
   ],
   "source": [
    "# get all text data\n",
    "text_only = soup.get_text()\n",
    "text_only\n"
   ]
  },
  {
   "cell_type": "code",
   "execution_count": 10,
   "metadata": {},
   "outputs": [
    {
     "data": {
      "text/plain": [
       "[<li>Provides a background in data science fundamentals before moving on to working with relational databases and unstructured data and preparing your data for analysis</li>,\n",
       " <li>Details different data visualization techniques that can be used to showcase and summarize your data</li>,\n",
       " <li>Explains both supervised and unsupervised machine learning, including regression, model validation, and clustering techniques</li>,\n",
       " <li>Includes coverage of big data processing tools like MapReduce, Hadoop, Storm, and Spark</li>]"
      ]
     },
     "execution_count": 10,
     "metadata": {},
     "output_type": "execute_result"
    }
   ],
   "source": [
    "# seacrhing for tag li\n",
    "soup.find_all(\"li\")"
   ]
  },
  {
   "cell_type": "code",
   "execution_count": 11,
   "metadata": {},
   "outputs": [
    {
     "data": {
      "text/plain": [
       "[<a class=\"preview\" href=\"http://bit.ly/Data-Science-For-Dummies\" id=\"link 3\">buy the book!</a>]"
      ]
     },
     "execution_count": 11,
     "metadata": {},
     "output_type": "execute_result"
    }
   ],
   "source": [
    "soup.find_all(id=\"link 3\")"
   ]
  },
  {
   "cell_type": "code",
   "execution_count": 12,
   "metadata": {},
   "outputs": [
    {
     "data": {
      "text/plain": [
       "[<ul>\\n<li>Provides a background in data science fundamentals before moving on to working with relational databases and unstructured data and preparing your data for analysis</li>\\n<li>Details different data visualization techniques that can be used to showcase and summarize your data</li>\\n<li>Explains both supervised and unsupervised machine learning, including regression, model validation, and clustering techniques</li>\\n<li>Includes coverage of big data processing tools like MapReduce, Hadoop, Storm, and Spark</li>\\n</ul>]"
      ]
     },
     "execution_count": 12,
     "metadata": {},
     "output_type": "execute_result"
    }
   ],
   "source": [
    "soup.find_all('ul')"
   ]
  },
  {
   "cell_type": "code",
   "execution_count": 13,
   "metadata": {},
   "outputs": [
    {
     "data": {
      "text/plain": [
       "[<b>DATA SCIENCE FOR DUMMIES</b>,\n",
       " <ul>\\n<li>Provides a background in data science fundamentals before moving on to working with relational databases and unstructured data and preparing your data for analysis</li>\\n<li>Details different data visualization techniques that can be used to showcase and summarize your data</li>\\n<li>Explains both supervised and unsupervised machine learning, including regression, model validation, and clustering techniques</li>\\n<li>Includes coverage of big data processing tools like MapReduce, Hadoop, Storm, and Spark</li>\\n</ul>]"
      ]
     },
     "execution_count": 13,
     "metadata": {},
     "output_type": "execute_result"
    }
   ],
   "source": [
    "# searching for 2 tags\n",
    "soup.find_all(['ul','b'])"
   ]
  },
  {
   "cell_type": "code",
   "execution_count": 19,
   "metadata": {},
   "outputs": [
    {
     "name": "stdout",
     "output_type": "stream",
     "text": [
      "html\n",
      "title\n",
      "ul\n",
      "li\n",
      "li\n",
      "li\n",
      "li\n"
     ]
    }
   ],
   "source": [
    "# searching for tags which have l in tagname\n",
    "l = re.compile('l')\n",
    "for tag in soup.find_all(l):print (tag.name)"
   ]
  },
  {
   "cell_type": "code",
   "execution_count": 20,
   "metadata": {},
   "outputs": [
    {
     "name": "stdout",
     "output_type": "stream",
     "text": [
      "html\n",
      "head\n",
      "title\n",
      "body\n",
      "p\n",
      "b\n",
      "p\n",
      "br\n",
      "br\n",
      "br\n",
      "ul\n",
      "li\n",
      "li\n",
      "li\n",
      "li\n",
      "br\n",
      "br\n",
      "br\n",
      "a\n",
      "a\n",
      "a\n",
      "p\n"
     ]
    }
   ],
   "source": [
    "# seacrhing all tag names -- passing bool val True \n",
    "for tag in soup.find_all(True):print tag.name"
   ]
  },
  {
   "cell_type": "code",
   "execution_count": 24,
   "metadata": {},
   "outputs": [
    {
     "data": {
      "text/plain": [
       "[<a class=\"preview\" href=\"http://www.data-mania.com/blog/books-by-lillian-pierson/\" id=\"link 1\">See a preview of the book</a>,\n",
       " <a class=\"preview\" href=\"http://www.data-mania.com/blog/data-science-for-dummies-answers-what-is-data-science/\" id=\"link 2\">get the free pdf download,</a>,\n",
       " <a class=\"preview\" href=\"http://bit.ly/Data-Science-For-Dummies\" id=\"link 3\">buy the book!</a>]"
      ]
     },
     "execution_count": 24,
     "metadata": {},
     "output_type": "execute_result"
    }
   ],
   "source": [
    "# Getting all links, a tag gives below details\n",
    "soup.find_all('a')"
   ]
  },
  {
   "cell_type": "code",
   "execution_count": 22,
   "metadata": {},
   "outputs": [
    {
     "name": "stdout",
     "output_type": "stream",
     "text": [
      "http://www.data-mania.com/blog/books-by-lillian-pierson/\n",
      "http://www.data-mania.com/blog/data-science-for-dummies-answers-what-is-data-science/\n",
      "http://bit.ly/Data-Science-For-Dummies\n"
     ]
    }
   ],
   "source": [
    "# to retrive href link.get\n",
    "for link in soup.find_all('a'): print link.get('href')"
   ]
  },
  {
   "cell_type": "code",
   "execution_count": 23,
   "metadata": {},
   "outputs": [
    {
     "data": {
      "text/plain": [
       "[u'Jobs in data science abound, but few people have the data science skills needed to fill these increasingly important roles in organizations. Data Science For Dummies is the pe\\n',\n",
       " u'Provides a background in data science fundamentals before moving on to working with relational databases and unstructured data and preparing your data for analysis',\n",
       " u'Details different data visualization techniques that can be used to showcase and summarize your data',\n",
       " u'Includes coverage of big data processing tools like MapReduce, Hadoop, Storm, and Spark']"
      ]
     },
     "execution_count": 23,
     "metadata": {},
     "output_type": "execute_result"
    }
   ],
   "source": [
    "# search all text where data word is mentioned\n",
    "soup.find_all(string=re.compile(\"data\"))"
   ]
  },
  {
   "cell_type": "code",
   "execution_count": null,
   "metadata": {
    "collapsed": true
   },
   "outputs": [],
   "source": []
  }
 ],
 "metadata": {
  "kernelspec": {
   "display_name": "Python 2",
   "language": "python",
   "name": "python2"
  },
  "language_info": {
   "codemirror_mode": {
    "name": "ipython",
    "version": 2
   },
   "file_extension": ".py",
   "mimetype": "text/x-python",
   "name": "python",
   "nbconvert_exporter": "python",
   "pygments_lexer": "ipython2",
   "version": "2.7.13"
  }
 },
 "nbformat": 4,
 "nbformat_minor": 2
}
